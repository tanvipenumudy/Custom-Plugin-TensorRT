{
 "cells": [
  {
   "cell_type": "markdown",
   "metadata": {
    "colab_type": "text",
    "id": "TeToP5f8XOJi"
   },
   "source": [
    "## Optimized Trained TensorFlow Model with NVIDIA Tensor RT"
   ]
  },
  {
   "cell_type": "markdown",
   "metadata": {
    "colab_type": "text",
    "id": "VMzNT06-XOJn"
   },
   "source": [
    "In this notebook we show how to import a frozen TensorFlow graph, and use the Tensor RT to optimize it and create a runtime engine"
   ]
  },
  {
   "cell_type": "code",
   "execution_count": 0,
   "metadata": {
    "colab": {},
    "colab_type": "code",
    "id": "ncZg5PAzXOJp"
   },
   "outputs": [],
   "source": [
    "''' Import TensorRT Modules '''\n",
    "import tensorrt as trt\n"
   ]
  },
  {
   "cell_type": "code",
   "execution_count": 0,
   "metadata": {
    "colab": {},
    "colab_type": "code",
    "id": "KDSOuIlEXOJu"
   },
   "outputs": [],
   "source": [
    "import uff\n",
    "from tensorrt.parsers import uffparser\n",
    "\n",
    "''' Import other modules '''\n",
    "import glob"
   ]
  },
  {
   "cell_type": "code",
   "execution_count": 0,
   "metadata": {
    "colab": {},
    "colab_type": "code",
    "id": "bAIRaA9rXOJy"
   },
   "outputs": [],
   "source": [
    "G_LOGGER = trt.infer.ConsoleLogger(trt.infer.LogSeverity.INFO) "
   ]
  },
  {
   "cell_type": "code",
   "execution_count": 0,
   "metadata": {
    "colab": {},
    "colab_type": "code",
    "collapsed": true,
    "id": "E1rOqk0dXOJ7",
    "outputId": "c11bd77c-1ce5-42b0-ed78-6c7e84d30958"
   },
   "outputs": [
    {
     "name": "stdout",
     "output_type": "stream",
     "text": [
      "Using output node dense_2/Softmax\n",
      "Converting to UFF graph\n",
      "Warning: keepdims is ignored by the UFF Parser and defaults to True\n",
      "No. nodes: 98\n"
     ]
    }
   ],
   "source": [
    "# Load your newly created Tensorflow frozen model and convert it to UFF\n",
    "uff_model = uff.from_tensorflow_frozen_model(\"saved_model\", \n",
    "                                             [\"dense_1\"])"
   ]
  },
  {
   "cell_type": "code",
   "execution_count": 0,
   "metadata": {
    "colab": {},
    "colab_type": "code",
    "id": "bTK220xcXOKA"
   },
   "outputs": [],
   "source": [
    "import tensorflow as tf\n",
    "\n",
    "def printTensors(pb_file):\n",
    "\n",
    "    # read pb into graph_def\n",
    "    with tf.gfile.GFile(pb_file, \"rb\") as f:\n",
    "        graph_def = tf.GraphDef()\n",
    "        graph_def.ParseFromString(f.read())\n",
    "\n",
    "    # import graph_def\n",
    "    with tf.Graph().as_default() as graph:\n",
    "        tf.import_graph_def(graph_def)\n",
    "\n",
    "    # print operations\n",
    "    for op in graph.get_operations():\n",
    "        print(op.name)\n"
   ]
  },
  {
   "cell_type": "code",
   "execution_count": 0,
   "metadata": {
    "colab": {},
    "colab_type": "code",
    "id": "N4zWYnBtXOKH",
    "outputId": "2f3d2cbc-0b53-4fd3-fa7b-9537932705b3"
   },
   "outputs": [
    {
     "data": {
      "text/plain": [
       "True"
      ]
     },
     "execution_count": 45,
     "metadata": {
      "tags": []
     },
     "output_type": "execute_result"
    }
   ],
   "source": [
    "# Create a UFF parser to parse the UFF file created from your TF Frozen model\n",
    "parser = uffparser.create_uff_parser()\n",
    "parser.register_input(#input layer, (3,224,224),0) #TODO1\n",
    "parser.register_output(#output layer)   #TODO2"
   ]
  },
  {
   "cell_type": "code",
   "execution_count": 0,
   "metadata": {
    "colab": {},
    "colab_type": "code",
    "id": "6pBjZ6zCXOKL"
   },
   "outputs": [],
   "source": [
    "#TODO3\n",
    "#Create Engine\n",
    "engine = trt.utils.uff_to_trt_engine(G_LOGGER,uff_model,64,1<<20,FP32)\n"
   ]
  },
  {
   "cell_type": "code",
   "execution_count": 0,
   "metadata": {
    "colab": {},
    "colab_type": "code",
    "id": "_QygR0P8XOKO"
   },
   "outputs": [],
   "source": [
    "trt.utils.write_engine_to_file(\"ISRLU_FP32.engine\", \n",
    "                               engine.serialize())"
   ]
  },
  {
   "cell_type": "code",
   "execution_count": 0,
   "metadata": {
    "colab": {},
    "colab_type": "code",
    "id": "_oyOiTCFXOKS",
    "outputId": "cf479bd2-1705-4952-94d6-30a819c5b508"
   },
   "outputs": [
    {
     "data": {
      "text/plain": [
       "['keras_vgg19_b1_FP32.engine']"
      ]
     },
     "execution_count": 49,
     "metadata": {
      "tags": []
     },
     "output_type": "execute_result"
    }
   ],
   "source": [
    "glob.glob(\"*.engine\")"
   ]
  },
  {
   "cell_type": "code",
   "execution_count": 0,
   "metadata": {
    "colab": {},
    "colab_type": "code",
    "id": "jVm93FnYXOKV"
   },
   "outputs": [],
   "source": []
  },
  {
   "cell_type": "code",
   "execution_count": 0,
   "metadata": {
    "colab": {},
    "colab_type": "code",
    "id": "Nue_JhzrXOKY"
   },
   "outputs": [],
   "source": []
  },
  {
   "cell_type": "code",
   "execution_count": 0,
   "metadata": {
    "colab": {},
    "colab_type": "code",
    "id": "AeDU-q_bXOKc"
   },
   "outputs": [],
   "source": []
  }
 ],
 "metadata": {
  "colab": {
   "name": "TRT-Engine Create(1).ipynb",
   "provenance": []
  },
  "kernelspec": {
   "display_name": "Python 3",
   "language": "python",
   "name": "python3"
  },
  "language_info": {
   "codemirror_mode": {
    "name": "ipython",
    "version": 3
   },
   "file_extension": ".py",
   "mimetype": "text/x-python",
   "name": "python",
   "nbconvert_exporter": "python",
   "pygments_lexer": "ipython3",
   "version": "3.7.4"
  }
 },
 "nbformat": 4,
 "nbformat_minor": 1
}
